{
 "cells": [
  {
   "cell_type": "code",
   "execution_count": 40,
   "metadata": {
    "collapsed": true,
    "deletable": true,
    "editable": true
   },
   "outputs": [],
   "source": [
    "import pandas as pd\n",
    "import matplotlib.pyplot as plt\n",
    "import numpy as np\n",
    "%matplotlib inline"
   ]
  },
  {
   "cell_type": "code",
   "execution_count": 41,
   "metadata": {
    "collapsed": true,
    "deletable": true,
    "editable": true
   },
   "outputs": [],
   "source": [
    "#status = pd.read_csv('status.csv')\n"
   ]
  },
  {
   "cell_type": "code",
   "execution_count": 42,
   "metadata": {
    "collapsed": false,
    "deletable": true,
    "editable": true
   },
   "outputs": [],
   "source": [
    "trips = pd.read_csv('trip.csv')"
   ]
  },
  {
   "cell_type": "code",
   "execution_count": 43,
   "metadata": {
    "collapsed": true,
    "deletable": true,
    "editable": true
   },
   "outputs": [],
   "source": [
    "station = pd.read_csv('station.csv')"
   ]
  },
  {
   "cell_type": "code",
   "execution_count": 44,
   "metadata": {
    "collapsed": false,
    "deletable": true,
    "editable": true
   },
   "outputs": [
    {
     "data": {
      "text/html": [
       "<div>\n",
       "<table border=\"1\" class=\"dataframe\">\n",
       "  <thead>\n",
       "    <tr style=\"text-align: right;\">\n",
       "      <th></th>\n",
       "      <th>id</th>\n",
       "      <th>duration</th>\n",
       "      <th>start_date</th>\n",
       "      <th>start_station_name</th>\n",
       "      <th>start_station_id</th>\n",
       "      <th>end_date</th>\n",
       "      <th>end_station_name</th>\n",
       "      <th>end_station_id</th>\n",
       "      <th>bike_id</th>\n",
       "      <th>subscription_type</th>\n",
       "      <th>zip_code</th>\n",
       "    </tr>\n",
       "  </thead>\n",
       "  <tbody>\n",
       "    <tr>\n",
       "      <th>0</th>\n",
       "      <td>4576</td>\n",
       "      <td>63</td>\n",
       "      <td>8/29/2013 14:13</td>\n",
       "      <td>South Van Ness at Market</td>\n",
       "      <td>66</td>\n",
       "      <td>8/29/2013 14:14</td>\n",
       "      <td>South Van Ness at Market</td>\n",
       "      <td>66</td>\n",
       "      <td>520</td>\n",
       "      <td>Subscriber</td>\n",
       "      <td>94127</td>\n",
       "    </tr>\n",
       "    <tr>\n",
       "      <th>1</th>\n",
       "      <td>4607</td>\n",
       "      <td>70</td>\n",
       "      <td>8/29/2013 14:42</td>\n",
       "      <td>San Jose City Hall</td>\n",
       "      <td>10</td>\n",
       "      <td>8/29/2013 14:43</td>\n",
       "      <td>San Jose City Hall</td>\n",
       "      <td>10</td>\n",
       "      <td>661</td>\n",
       "      <td>Subscriber</td>\n",
       "      <td>95138</td>\n",
       "    </tr>\n",
       "    <tr>\n",
       "      <th>2</th>\n",
       "      <td>4130</td>\n",
       "      <td>71</td>\n",
       "      <td>8/29/2013 10:16</td>\n",
       "      <td>Mountain View City Hall</td>\n",
       "      <td>27</td>\n",
       "      <td>8/29/2013 10:17</td>\n",
       "      <td>Mountain View City Hall</td>\n",
       "      <td>27</td>\n",
       "      <td>48</td>\n",
       "      <td>Subscriber</td>\n",
       "      <td>97214</td>\n",
       "    </tr>\n",
       "  </tbody>\n",
       "</table>\n",
       "</div>"
      ],
      "text/plain": [
       "     id  duration       start_date        start_station_name  \\\n",
       "0  4576        63  8/29/2013 14:13  South Van Ness at Market   \n",
       "1  4607        70  8/29/2013 14:42        San Jose City Hall   \n",
       "2  4130        71  8/29/2013 10:16   Mountain View City Hall   \n",
       "\n",
       "   start_station_id         end_date          end_station_name  \\\n",
       "0                66  8/29/2013 14:14  South Van Ness at Market   \n",
       "1                10  8/29/2013 14:43        San Jose City Hall   \n",
       "2                27  8/29/2013 10:17   Mountain View City Hall   \n",
       "\n",
       "   end_station_id  bike_id subscription_type zip_code  \n",
       "0              66      520        Subscriber    94127  \n",
       "1              10      661        Subscriber    95138  \n",
       "2              27       48        Subscriber    97214  "
      ]
     },
     "execution_count": 44,
     "metadata": {},
     "output_type": "execute_result"
    }
   ],
   "source": [
    "trips.head(3)"
   ]
  },
  {
   "cell_type": "code",
   "execution_count": 45,
   "metadata": {
    "collapsed": false,
    "deletable": true,
    "editable": true
   },
   "outputs": [
    {
     "data": {
      "text/plain": [
       "Index(['id', 'duration', 'start_date', 'start_station_name',\n",
       "       'start_station_id', 'end_date', 'end_station_name', 'end_station_id',\n",
       "       'bike_id', 'subscription_type', 'zip_code'],\n",
       "      dtype='object')"
      ]
     },
     "execution_count": 45,
     "metadata": {},
     "output_type": "execute_result"
    }
   ],
   "source": [
    "trips.columns"
   ]
  },
  {
   "cell_type": "code",
   "execution_count": 46,
   "metadata": {
    "collapsed": false,
    "deletable": true,
    "editable": true
   },
   "outputs": [
    {
     "name": "stdout",
     "output_type": "stream",
     "text": [
      "301480    60\n",
      "252114    60\n",
      "79739     60\n",
      "618094    60\n",
      "547555    60\n",
      "Name: duration, dtype: int64\n",
      "---\n",
      "573566    17270400\n",
      "382718     2137000\n",
      "440339     1852590\n",
      "371066     1133540\n",
      "80510       722236\n",
      "Name: duration, dtype: int64\n"
     ]
    }
   ],
   "source": [
    "minimasDuraciones = trips['duration'].sort_values(inplace=False).head()\n",
    "maximasDuraciones = trips['duration'].sort_values(ascending= False,inplace=False).head()\n",
    "print(minimasDuraciones)\n",
    "print('---')\n",
    "print(maximasDuraciones)"
   ]
  },
  {
   "cell_type": "code",
   "execution_count": 47,
   "metadata": {
    "collapsed": false,
    "deletable": true,
    "editable": true
   },
   "outputs": [
    {
     "data": {
      "text/html": [
       "<div>\n",
       "<table border=\"1\" class=\"dataframe\">\n",
       "  <thead>\n",
       "    <tr style=\"text-align: right;\">\n",
       "      <th></th>\n",
       "      <th>id</th>\n",
       "      <th>duration</th>\n",
       "      <th>start_date</th>\n",
       "      <th>start_station_name</th>\n",
       "      <th>start_station_id</th>\n",
       "      <th>end_date</th>\n",
       "      <th>end_station_name</th>\n",
       "      <th>end_station_id</th>\n",
       "      <th>bike_id</th>\n",
       "      <th>subscription_type</th>\n",
       "      <th>zip_code</th>\n",
       "    </tr>\n",
       "  </thead>\n",
       "  <tbody>\n",
       "    <tr>\n",
       "      <th>0</th>\n",
       "      <td>4576</td>\n",
       "      <td>63</td>\n",
       "      <td>8/29/2013 14:13</td>\n",
       "      <td>South Van Ness at Market</td>\n",
       "      <td>66</td>\n",
       "      <td>8/29/2013 14:14</td>\n",
       "      <td>South Van Ness at Market</td>\n",
       "      <td>66</td>\n",
       "      <td>520</td>\n",
       "      <td>Subscriber</td>\n",
       "      <td>94127</td>\n",
       "    </tr>\n",
       "    <tr>\n",
       "      <th>1</th>\n",
       "      <td>4607</td>\n",
       "      <td>70</td>\n",
       "      <td>8/29/2013 14:42</td>\n",
       "      <td>San Jose City Hall</td>\n",
       "      <td>10</td>\n",
       "      <td>8/29/2013 14:43</td>\n",
       "      <td>San Jose City Hall</td>\n",
       "      <td>10</td>\n",
       "      <td>661</td>\n",
       "      <td>Subscriber</td>\n",
       "      <td>95138</td>\n",
       "    </tr>\n",
       "    <tr>\n",
       "      <th>2</th>\n",
       "      <td>4130</td>\n",
       "      <td>71</td>\n",
       "      <td>8/29/2013 10:16</td>\n",
       "      <td>Mountain View City Hall</td>\n",
       "      <td>27</td>\n",
       "      <td>8/29/2013 10:17</td>\n",
       "      <td>Mountain View City Hall</td>\n",
       "      <td>27</td>\n",
       "      <td>48</td>\n",
       "      <td>Subscriber</td>\n",
       "      <td>97214</td>\n",
       "    </tr>\n",
       "    <tr>\n",
       "      <th>3</th>\n",
       "      <td>4251</td>\n",
       "      <td>77</td>\n",
       "      <td>8/29/2013 11:29</td>\n",
       "      <td>San Jose City Hall</td>\n",
       "      <td>10</td>\n",
       "      <td>8/29/2013 11:30</td>\n",
       "      <td>San Jose City Hall</td>\n",
       "      <td>10</td>\n",
       "      <td>26</td>\n",
       "      <td>Subscriber</td>\n",
       "      <td>95060</td>\n",
       "    </tr>\n",
       "    <tr>\n",
       "      <th>4</th>\n",
       "      <td>4299</td>\n",
       "      <td>83</td>\n",
       "      <td>8/29/2013 12:02</td>\n",
       "      <td>South Van Ness at Market</td>\n",
       "      <td>66</td>\n",
       "      <td>8/29/2013 12:04</td>\n",
       "      <td>Market at 10th</td>\n",
       "      <td>67</td>\n",
       "      <td>319</td>\n",
       "      <td>Subscriber</td>\n",
       "      <td>94103</td>\n",
       "    </tr>\n",
       "  </tbody>\n",
       "</table>\n",
       "</div>"
      ],
      "text/plain": [
       "     id  duration       start_date        start_station_name  \\\n",
       "0  4576        63  8/29/2013 14:13  South Van Ness at Market   \n",
       "1  4607        70  8/29/2013 14:42        San Jose City Hall   \n",
       "2  4130        71  8/29/2013 10:16   Mountain View City Hall   \n",
       "3  4251        77  8/29/2013 11:29        San Jose City Hall   \n",
       "4  4299        83  8/29/2013 12:02  South Van Ness at Market   \n",
       "\n",
       "   start_station_id         end_date          end_station_name  \\\n",
       "0                66  8/29/2013 14:14  South Van Ness at Market   \n",
       "1                10  8/29/2013 14:43        San Jose City Hall   \n",
       "2                27  8/29/2013 10:17   Mountain View City Hall   \n",
       "3                10  8/29/2013 11:30        San Jose City Hall   \n",
       "4                66  8/29/2013 12:04            Market at 10th   \n",
       "\n",
       "   end_station_id  bike_id subscription_type zip_code  \n",
       "0              66      520        Subscriber    94127  \n",
       "1              10      661        Subscriber    95138  \n",
       "2              27       48        Subscriber    97214  \n",
       "3              10       26        Subscriber    95060  \n",
       "4              67      319        Subscriber    94103  "
      ]
     },
     "execution_count": 47,
     "metadata": {},
     "output_type": "execute_result"
    }
   ],
   "source": [
    "trips.head()"
   ]
  },
  {
   "cell_type": "code",
   "execution_count": 48,
   "metadata": {
    "collapsed": false,
    "deletable": true,
    "editable": true
   },
   "outputs": [
    {
     "data": {
      "text/html": [
       "<div>\n",
       "<table border=\"1\" class=\"dataframe\">\n",
       "  <thead>\n",
       "    <tr style=\"text-align: right;\">\n",
       "      <th></th>\n",
       "      <th>id</th>\n",
       "      <th>duration</th>\n",
       "      <th>start_date</th>\n",
       "      <th>start_station_name</th>\n",
       "      <th>start_station_id</th>\n",
       "      <th>end_date</th>\n",
       "      <th>end_station_name</th>\n",
       "      <th>end_station_id</th>\n",
       "      <th>bike_id</th>\n",
       "      <th>subscription_type</th>\n",
       "      <th>zip_code</th>\n",
       "    </tr>\n",
       "  </thead>\n",
       "  <tbody>\n",
       "    <tr>\n",
       "      <th>573566</th>\n",
       "      <td>568474</td>\n",
       "      <td>17270400</td>\n",
       "      <td>12/6/2014 21:59</td>\n",
       "      <td>South Van Ness at Market</td>\n",
       "      <td>66</td>\n",
       "      <td>6/24/2015 20:18</td>\n",
       "      <td>2nd at Folsom</td>\n",
       "      <td>62</td>\n",
       "      <td>535</td>\n",
       "      <td>Customer</td>\n",
       "      <td>95531</td>\n",
       "    </tr>\n",
       "    <tr>\n",
       "      <th>382718</th>\n",
       "      <td>825850</td>\n",
       "      <td>2137000</td>\n",
       "      <td>6/28/2015 21:50</td>\n",
       "      <td>Market at Sansome</td>\n",
       "      <td>77</td>\n",
       "      <td>7/23/2015 15:27</td>\n",
       "      <td>Yerba Buena Center of the Arts (3rd @ Howard)</td>\n",
       "      <td>68</td>\n",
       "      <td>466</td>\n",
       "      <td>Customer</td>\n",
       "      <td>97213</td>\n",
       "    </tr>\n",
       "    <tr>\n",
       "      <th>440339</th>\n",
       "      <td>750192</td>\n",
       "      <td>1852590</td>\n",
       "      <td>5/2/2015 6:17</td>\n",
       "      <td>San Antonio Shopping Center</td>\n",
       "      <td>31</td>\n",
       "      <td>5/23/2015 16:53</td>\n",
       "      <td>Castro Street and El Camino Real</td>\n",
       "      <td>32</td>\n",
       "      <td>680</td>\n",
       "      <td>Subscriber</td>\n",
       "      <td>94024</td>\n",
       "    </tr>\n",
       "    <tr>\n",
       "      <th>371066</th>\n",
       "      <td>841176</td>\n",
       "      <td>1133540</td>\n",
       "      <td>7/10/2015 10:35</td>\n",
       "      <td>University and Emerson</td>\n",
       "      <td>35</td>\n",
       "      <td>7/23/2015 13:27</td>\n",
       "      <td>University and Emerson</td>\n",
       "      <td>35</td>\n",
       "      <td>262</td>\n",
       "      <td>Customer</td>\n",
       "      <td>94306</td>\n",
       "    </tr>\n",
       "    <tr>\n",
       "      <th>80510</th>\n",
       "      <td>111309</td>\n",
       "      <td>722236</td>\n",
       "      <td>11/30/2013 13:29</td>\n",
       "      <td>University and Emerson</td>\n",
       "      <td>35</td>\n",
       "      <td>12/8/2013 22:06</td>\n",
       "      <td>University and Emerson</td>\n",
       "      <td>35</td>\n",
       "      <td>247</td>\n",
       "      <td>Customer</td>\n",
       "      <td>94301</td>\n",
       "    </tr>\n",
       "  </tbody>\n",
       "</table>\n",
       "</div>"
      ],
      "text/plain": [
       "            id  duration        start_date           start_station_name  \\\n",
       "573566  568474  17270400   12/6/2014 21:59     South Van Ness at Market   \n",
       "382718  825850   2137000   6/28/2015 21:50            Market at Sansome   \n",
       "440339  750192   1852590     5/2/2015 6:17  San Antonio Shopping Center   \n",
       "371066  841176   1133540   7/10/2015 10:35       University and Emerson   \n",
       "80510   111309    722236  11/30/2013 13:29       University and Emerson   \n",
       "\n",
       "        start_station_id         end_date  \\\n",
       "573566                66  6/24/2015 20:18   \n",
       "382718                77  7/23/2015 15:27   \n",
       "440339                31  5/23/2015 16:53   \n",
       "371066                35  7/23/2015 13:27   \n",
       "80510                 35  12/8/2013 22:06   \n",
       "\n",
       "                                     end_station_name  end_station_id  \\\n",
       "573566                                  2nd at Folsom              62   \n",
       "382718  Yerba Buena Center of the Arts (3rd @ Howard)              68   \n",
       "440339               Castro Street and El Camino Real              32   \n",
       "371066                         University and Emerson              35   \n",
       "80510                          University and Emerson              35   \n",
       "\n",
       "        bike_id subscription_type zip_code  \n",
       "573566      535          Customer    95531  \n",
       "382718      466          Customer    97213  \n",
       "440339      680        Subscriber    94024  \n",
       "371066      262          Customer    94306  \n",
       "80510       247          Customer    94301  "
      ]
     },
     "execution_count": 48,
     "metadata": {},
     "output_type": "execute_result"
    }
   ],
   "source": [
    "#pd.DataFrame(maximasDuraciones).join(trips, left_index=True, how='inner')\n",
    "trips.loc[maximasDuraciones.index]"
   ]
  },
  {
   "cell_type": "markdown",
   "metadata": {
    "deletable": true,
    "editable": true
   },
   "source": [
    "## Duraciones entre customers y subscribers"
   ]
  },
  {
   "cell_type": "code",
   "execution_count": 49,
   "metadata": {
    "collapsed": false,
    "deletable": true,
    "editable": true
   },
   "outputs": [
    {
     "name": "stdout",
     "output_type": "stream",
     "text": [
      "el promedio de duracion de los customers es 3951.76132851 s\n"
     ]
    }
   ],
   "source": [
    "tripsCustomer = trips[trips['subscription_type'] == 'Customer']\n",
    "tiempo = tripsCustomer['duration'].sum()/ len(tripsCustomer)\n",
    "print('el promedio de duracion de los customers es',tiempo, 's')"
   ]
  },
  {
   "cell_type": "code",
   "execution_count": 50,
   "metadata": {
    "collapsed": false,
    "deletable": true,
    "editable": true
   },
   "outputs": [
    {
     "name": "stdout",
     "output_type": "stream",
     "text": [
      "el promedio de duracion de los subcribers es 590.048856101 s\n"
     ]
    }
   ],
   "source": [
    "tripsSubscribers = trips[trips['subscription_type'] == 'Subscriber']\n",
    "tiempo = tripsSubscribers['duration'].sum()/ len(tripsSubscribers)\n",
    "print('el promedio de duracion de los subcribers es',tiempo, 's')"
   ]
  },
  {
   "cell_type": "markdown",
   "metadata": {
    "deletable": true,
    "editable": true
   },
   "source": [
    "##  lugares mas frecuentes"
   ]
  },
  {
   "cell_type": "code",
   "execution_count": 51,
   "metadata": {
    "collapsed": false,
    "deletable": true,
    "editable": true
   },
   "outputs": [
    {
     "name": "stdout",
     "output_type": "stream",
     "text": [
      "San Francisco Caltrain (Townsend at 4th)         49092\n",
      "San Francisco Caltrain 2 (330 Townsend)          33742\n",
      "Harry Bridges Plaza (Ferry Building)             32934\n",
      "Embarcadero at Sansome                           27713\n",
      "Temporary Transbay Terminal (Howard at Beale)    26089\n",
      "Name: start_station_name, dtype: int64\n",
      "--\n",
      "San Francisco Caltrain (Townsend at 4th)    63179\n",
      "San Francisco Caltrain 2 (330 Townsend)     35117\n",
      "Harry Bridges Plaza (Ferry Building)        33193\n",
      "Embarcadero at Sansome                      30796\n",
      "2nd at Townsend                             28529\n",
      "Name: end_station_name, dtype: int64\n"
     ]
    }
   ],
   "source": [
    "print(trips['start_station_name'].value_counts().head())\n",
    "print('--')\n",
    "print(trips['end_station_name'].value_counts().head())"
   ]
  },
  {
   "cell_type": "markdown",
   "metadata": {
    "deletable": true,
    "editable": true
   },
   "source": [
    "los lugares mas frecuentes son San Francisco Caltrain, San Francisco Caltrain 2, y Harry Bridges Plaza"
   ]
  },
  {
   "cell_type": "code",
   "execution_count": 52,
   "metadata": {
    "collapsed": false,
    "deletable": true,
    "editable": true
   },
   "outputs": [
    {
     "name": "stdout",
     "output_type": "stream",
     "text": [
      "Subscribers\n",
      "--\n",
      "San Francisco Caltrain (Townsend at 4th)         45842\n",
      "San Francisco Caltrain 2 (330 Townsend)          31962\n",
      "Temporary Transbay Terminal (Howard at Beale)    25050\n",
      "Harry Bridges Plaza (Ferry Building)             23502\n",
      "2nd at Townsend                                  22482\n",
      "Name: start_station_name, dtype: int64\n",
      "\n",
      "Customers\n",
      "--\n",
      "Embarcadero at Sansome                  10445\n",
      "Harry Bridges Plaza (Ferry Building)     9432\n",
      "Market at 4th                            4521\n",
      "Powell Street BART                       3932\n",
      "Embarcadero at Vallejo                   3810\n",
      "Name: start_station_name, dtype: int64\n"
     ]
    }
   ],
   "source": [
    "print('Subscribers')\n",
    "print('--')\n",
    "print(tripsSubscribers['start_station_name'].value_counts().head())\n",
    "print('\\nCustomers')\n",
    "print('--')\n",
    "print(tripsCustomer['start_station_name'].value_counts().head())"
   ]
  },
  {
   "cell_type": "code",
   "execution_count": 53,
   "metadata": {
    "collapsed": false,
    "deletable": true,
    "editable": true
   },
   "outputs": [
    {
     "name": "stdout",
     "output_type": "stream",
     "text": [
      "Cantidad de Clientes 103213\n",
      "Cantidad de Suscriptores 566746\n"
     ]
    }
   ],
   "source": [
    "print('Cantidad de Clientes',len(tripsCustomer))\n",
    "print('Cantidad de Suscriptores',len(tripsSubscribers))"
   ]
  },
  {
   "cell_type": "markdown",
   "metadata": {
    "deletable": true,
    "editable": true
   },
   "source": [
    "    Sin embargo si comparamos entre subscribers y customers, vemos que los customers alquilan mas desde distintos lugares, seguramente porque los lugares donde alquilan los subscribers sean puntos mas turisticos, donde las personas se subscriban y no necesiten ser clientes. Por otro lado, los customers alquilan mas desde lugares donde viajen seguido o vayan a trabajar, como el Market at 4th. Tambien se ve que inician muchos viajes en embarcaderos, muchos mas que en subscribers. Esto puede significar que tengan mas decidido hacer un viaje en bicicleta, seguramente sea parte de la rutina, y esto lleve a ser cliente.\n",
    "    Se ve tambien que "
   ]
  },
  {
   "cell_type": "markdown",
   "metadata": {
    "deletable": true,
    "editable": true
   },
   "source": [
    "# Cantidad de viajes según la hora"
   ]
  },
  {
   "cell_type": "code",
   "execution_count": 54,
   "metadata": {
    "collapsed": false,
    "deletable": true,
    "editable": true
   },
   "outputs": [],
   "source": [
    "trips_by_hr = trips[['start_date']]"
   ]
  },
  {
   "cell_type": "code",
   "execution_count": 55,
   "metadata": {
    "collapsed": false,
    "deletable": true,
    "editable": true
   },
   "outputs": [
    {
     "name": "stderr",
     "output_type": "stream",
     "text": [
      "/home/carlos/Documentos/7506-OrgaDatos/tp1datos/lib/python3.6/site-packages/pandas/core/generic.py:2773: SettingWithCopyWarning: \n",
      "A value is trying to be set on a copy of a slice from a DataFrame.\n",
      "Try using .loc[row_indexer,col_indexer] = value instead\n",
      "\n",
      "See the caveats in the documentation: http://pandas.pydata.org/pandas-docs/stable/indexing.html#indexing-view-versus-copy\n",
      "  self[name] = value\n"
     ]
    }
   ],
   "source": [
    "# Llevo todas las fechas a formato DateTime\n",
    "trips_by_hr.start_date = pd.to_datetime(trips_by_hr.start_date, format='%m/%d/%Y %H:%M')"
   ]
  },
  {
   "cell_type": "code",
   "execution_count": 56,
   "metadata": {
    "collapsed": true,
    "deletable": true,
    "editable": true
   },
   "outputs": [],
   "source": [
    "# Cambio el nombre de la columna por \"hour\"\n",
    "trips_by_hr.columns.values[0] = 'hour'"
   ]
  },
  {
   "cell_type": "code",
   "execution_count": 57,
   "metadata": {
    "collapsed": false,
    "deletable": true,
    "editable": true
   },
   "outputs": [],
   "source": [
    "# Me quedo solo con la hora\n",
    "trips_by_hr = trips_by_hr.apply(lambda x: x.dt.hour)"
   ]
  },
  {
   "cell_type": "code",
   "execution_count": 58,
   "metadata": {
    "collapsed": false,
    "deletable": true,
    "editable": true
   },
   "outputs": [],
   "source": [
    "# Cuento la cantidad de viajes por cada hora\n",
    "hours = {}\n",
    "for d in trips_by_hr.values.flat:\n",
    "    if d not in hours:\n",
    "        hours[d] = 1\n",
    "    else:\n",
    "        hours[d] += 1"
   ]
  },
  {
   "cell_type": "code",
   "execution_count": 59,
   "metadata": {
    "collapsed": false,
    "deletable": true,
    "editable": true
   },
   "outputs": [],
   "source": [
    "# Armo un df con las horas como índice y las cantidades como valores\n",
    "trips_by_hr = pd.DataFrame.from_dict(hours, orient='index')\n",
    "trips_by_hr['trips'] = trips_by_hr[0]\n",
    "del trips_by_hr[0]\n",
    "trips_by_hr.sort_index(inplace=True)"
   ]
  },
  {
   "cell_type": "code",
   "execution_count": 39,
   "metadata": {
    "collapsed": false,
    "deletable": true,
    "editable": true
   },
   "outputs": [
    {
     "data": {
      "image/png": "[encoded data removed]",
      "text/plain": [
       "<matplotlib.figure.Figure at 0x7fd5fd2b9d30>"
      ]
     },
     "metadata": {},
     "output_type": "display_data"
    }
   ],
   "source": [
    "plt.figure(figsize=(16,4))\n",
    "plt.plot(trips_by_hr)\n",
    "plt.grid()\n",
    "plt.xticks([i for i in range(0,25,2)])\n",
    "plt.title('Cantidad de viajes por hora')\n",
    "plt.xlabel('Hour')\n",
    "plt.ylabel('Trips')\n",
    "plt.autoscale(tight=True)\n",
    "plt.fill_between(trips_by_hr.index, trips_by_hr.trips, alpha=0.6)\n",
    "plt.show()"
   ]
  },
  {
   "cell_type": "code",
   "execution_count": null,
   "metadata": {
    "collapsed": true,
    "deletable": true,
    "editable": true
   },
   "outputs": [],
   "source": []
  }
 ],
 "metadata": {
  "anaconda-cloud": {},
  "kernelspec": {
   "display_name": "Python 3",
   "language": "python",
   "name": "python3"
  },
  "language_info": {
   "codemirror_mode": {
    "name": "ipython",
    "version": 3
   },
   "file_extension": ".py",
   "mimetype": "text/x-python",
   "name": "python",
   "nbconvert_exporter": "python",
   "pygments_lexer": "ipython3",
   "version": "3.6.0"
  }
 },
 "nbformat": 4,
 "nbformat_minor": 2
}
